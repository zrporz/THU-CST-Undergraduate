{
 "cells": [
  {
   "cell_type": "code",
   "execution_count": 10,
   "metadata": {},
   "outputs": [
    {
     "name": "stdout",
     "output_type": "stream",
     "text": [
      "n = 8\n",
      "The delta_x is: 1.2866967868951917e-07\n",
      "The residual is: 4.440892098500626e-16\n",
      "After add noise, The delta_x is: 1076.9755159106592\n",
      "After add noise, The residual is: 3.5083047578154947e-14\n",
      "n = 10\n",
      "The delta_x is: 0.00014169672771102704\n",
      "The residual is: 4.440892098500626e-16\n",
      "After add noise, The delta_x is: 1953971.1755125702\n",
      "After add noise, The residual is: 7.389377998379132e-11\n",
      "n = 12\n",
      "The delta_x is: 0.5930047889090635\n",
      "The residual is: 2.220446049250313e-16\n",
      "After add noise, The delta_x is: 1568761580.2507281\n",
      "After add noise, The residual is: 5.857894169736255e-08\n",
      "n = 14\n",
      "The delta_x is: nan\n",
      "The residual is: nan\n",
      "After add noise, The delta_x is: nan\n",
      "After add noise, The residual is: nan\n"
     ]
    },
    {
     "name": "stderr",
     "output_type": "stream",
     "text": [
      "C:\\Users\\tehaj\\AppData\\Local\\Temp\\ipykernel_4848\\730287276.py:17: RuntimeWarning: invalid value encountered in sqrt\n",
      "  H_matrix[j][j] = np.sqrt(H_matrix[j][j])\n"
     ]
    }
   ],
   "source": [
    "import numpy as np\n",
    "np.random.seed(1234)\n",
    "def H(n):\n",
    "    # 创建一个nxn的单位矩阵\n",
    "    H = np.zeros((n,n),dtype=np.float64)\n",
    "    for i in range(n):\n",
    "        for j in range(n):\n",
    "            H[i][j] = 1/(i+j+1)\n",
    "    return H\n",
    "\n",
    "def Cholesky(H_matrix_,n):\n",
    "    H_matrix = H_matrix_.copy() \n",
    "    for j in range(n):\n",
    "        if j!=0:\n",
    "            for k in range(j):\n",
    "                H_matrix[j][j] -= H_matrix[j][k]**2\n",
    "            H_matrix[j][j] = np.sqrt(H_matrix[j][j])\n",
    "        for i in range(j+1,n):\n",
    "            for k in range(j):\n",
    "                H_matrix[i][j] -= H_matrix[i][k]*H_matrix[j][k]\n",
    "            H_matrix[i][j] = H_matrix[i][j]/H_matrix[j][j]\n",
    "\n",
    "    for i  in range(n):\n",
    "        for j in range(i+1,n):\n",
    "            H_matrix[i][j] = 0\n",
    "    return H_matrix\n",
    "\n",
    "def solve_L(L,b,n):\n",
    "    b_ = b.copy()\n",
    "    for i in range(n):\n",
    "        for j in range(i):\n",
    "            b_[i] -= L[i][j]*b_[j]\n",
    "        b_[i] = b_[i]/L[i][i]\n",
    "        \n",
    "    return b_\n",
    "\n",
    "def solve_U(U,b,n):\n",
    "    b_ = b.copy()\n",
    "    for i in range(n-1,-1,-1):\n",
    "        for j in range(i+1,n):\n",
    "            b_[i] -= U[i][j]*b_[j]\n",
    "        b_[i] = b_[i]/U[i][i]\n",
    "        \n",
    "    return b_\n",
    "\n",
    "def solve_H(H_matrix,b,n):\n",
    "    L = Cholesky(H_matrix,n)\n",
    "    y = solve_L(L,b,n)\n",
    "    x_solved = solve_U(L.T,y,n)\n",
    "    return x_solved\n",
    "for n in [8,10,12,14]:\n",
    "    print(f\"n = {n}\")\n",
    "    x = np.ones((n,1))\n",
    "    H_matrix = H(n)\n",
    "    b = np.dot(H_matrix,x)\n",
    "    x_solved = solve_H(H_matrix,b,n)\n",
    "    # print(\"The solution of the system is:\",x_solved)\n",
    "    delta_x = x-x_solved\n",
    "    r = b - H_matrix @ x_solved\n",
    "    delta_x_abs_inf = np.abs(delta_x).max()\n",
    "    r_abs_inf = np.abs(r).max()\n",
    "    print(\"The delta_x is:\",delta_x_abs_inf)\n",
    "    print(\"The residual is:\",r_abs_inf)\n",
    "\n",
    "    b_abs_inf = np.abs(b).max()\n",
    "\n",
    "    # b_random_noise = b + np.random.choice([-1, 0, 1], size=(n,1))*1e-7*np.abs(b_abs_inf)\n",
    "    b_random_noise = b + np.random.choice([-1,1], size=(n,1))*1e-7*np.abs(b_abs_inf)\n",
    "\n",
    "    # noise_variance = 1e-7 * np.abs(b_abs_inf)\n",
    "    # b_random_noise = b + np.random.normal(loc=0, scale=noise_variance, size=(n, 1)) \n",
    "\n",
    "    x_solved_noised = solve_H(H_matrix,b_random_noise,n)\n",
    "    # print(\"The solution after add noise is:\",x_solved_noised)\n",
    "    delta_x = x-x_solved_noised\n",
    "    delta_x_abs_inf = np.abs(delta_x).max()\n",
    "    r = b_random_noise - H_matrix @ x_solved_noised\n",
    "    r_abs_inf = np.abs(r).max()\n",
    "    print(\"After add noise, The delta_x is:\",delta_x_abs_inf)\n",
    "    print(\"After add noise, The residual is:\",r_abs_inf)"
   ]
  },
  {
   "cell_type": "code",
   "execution_count": 5,
   "metadata": {},
   "outputs": [
    {
     "name": "stdout",
     "output_type": "stream",
     "text": [
      "n=8, cond is  33872792587.596287\n",
      "n=10, cond is  35353994546522.04\n",
      "n=12, cond is  4.003338526130967e+16\n",
      "n=14, cond is  7.605093403667743e+17\n"
     ]
    }
   ],
   "source": [
    "import numpy as np\n",
    "for n in [8,10,12,14]:\n",
    "    H_matrix = H(n)\n",
    "    infinite_condition_number = np.linalg.norm(H_matrix, ord=np.inf) * np.linalg.norm(np.linalg.inv(H_matrix), ord=np.inf)\n",
    "    print(f\"n={n}, cond is \",infinite_condition_number)"
   ]
  }
 ],
 "metadata": {
  "kernelspec": {
   "display_name": "summer",
   "language": "python",
   "name": "python3"
  },
  "language_info": {
   "codemirror_mode": {
    "name": "ipython",
    "version": 3
   },
   "file_extension": ".py",
   "mimetype": "text/x-python",
   "name": "python",
   "nbconvert_exporter": "python",
   "pygments_lexer": "ipython3",
   "version": "3.8.13"
  }
 },
 "nbformat": 4,
 "nbformat_minor": 2
}

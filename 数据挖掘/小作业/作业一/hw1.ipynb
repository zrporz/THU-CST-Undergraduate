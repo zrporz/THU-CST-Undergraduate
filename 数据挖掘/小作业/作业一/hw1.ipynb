{
 "cells": [
  {
   "cell_type": "markdown",
   "metadata": {},
   "source": [
    "## 数据属性类型练习\n",
    "对于下面列出的每一个数据属性，从 {Nominal, Ordinal, Interval, Ratio} 四个选项中选出最合适的类型，并说明理由\n",
    "- 国籍：Nominal 只能比较相等于与否\n",
    "- 学生学号：Nominal 只能比较相等于与否\n",
    "- 教育水平：Ordinal 教育水平具有顺序但基本运算无意义\n",
    "- 出生日期：Interval 出生日期具有顺序且加减有意义（真实天数）\n",
    "- 年收入：Ratio 有顺序且基本运算（加减乘除）有意义\n",
    "- 年龄：Ratio   有顺序且基本运算（加减乘除）有意义"
   ]
  },
  {
   "cell_type": "markdown",
   "metadata": {},
   "source": [
    "## 计算统计信息\n",
    "### 计算这组数据的均值、中位数和众数"
   ]
  },
  {
   "cell_type": "code",
   "execution_count": 2,
   "metadata": {},
   "outputs": [
    {
     "name": "stdout",
     "output_type": "stream",
     "text": [
      "平均数: 27.893749999999997\n",
      "中位数: 28.9\n",
      "众数: 26.5\n"
     ]
    }
   ],
   "source": [
    "data = [9.0, 26.5, 4.8, 17.2, 31.4, 26.5, 28.0, 26.5, 34.6, 43.0, 29.8, 33.4, 27.4, 34.1, 32.9, 41.2]\n",
    "\n",
    "# 计算平均数\n",
    "mean = sum(data) / len(data)\n",
    "print(\"平均数:\", mean)\n",
    "\n",
    "# 计算中位数\n",
    "data.sort()\n",
    "s = len(data)\n",
    "median = (data[s // 2] + data[(s-1) // 2]) / 2\n",
    "print(\"中位数:\", median)\n",
    "\n",
    "# 计算众数\n",
    "from collections import Counter\n",
    "\n",
    "most_common = Counter(data).most_common(1)\n",
    "print(\"众数:\", most_common[0][0])\n"
   ]
  },
  {
   "cell_type": "markdown",
   "metadata": {},
   "source": [
    "### 给出五数概括，并画出盒图"
   ]
  },
  {
   "cell_type": "code",
   "execution_count": 3,
   "metadata": {},
   "outputs": [
    {
     "data": {
      "image/png": "[encoded data removed]",
      "text/plain": [
       "<Figure size 640x480 with 1 Axes>"
      ]
     },
     "metadata": {},
     "output_type": "display_data"
    },
    {
     "name": "stdout",
     "output_type": "stream",
     "text": [
      "五数概括：\n",
      "最小值: 4.8\n",
      "Q1: 26.5\n",
      "中位数: 28.9\n",
      "Q3: 33.75\n",
      "最大值: 43.0\n"
     ]
    }
   ],
   "source": [
    "# 给出五数概括，并画出盒图\n",
    "import matplotlib.pyplot as plt\n",
    "\n",
    "# 计算五数概括\n",
    "data.sort()\n",
    "interval = len(data) // 4\n",
    "Q1 = (data[interval] + data[interval-1]) / 2\n",
    "s = len(data)\n",
    "M = (data[interval*2] + data[interval*2-1]) / 2\n",
    "Q3 = (data[interval*3] + data[interval*3-1]) / 2\n",
    "min_value = data[0]\n",
    "max_value = data[-1]\n",
    "\n",
    "# 画出盒图\n",
    "plt.boxplot(data)\n",
    "plt.title(\"Boxplot\")\n",
    "plt.xlabel(\"Data\")\n",
    "plt.ylabel(\"Value\")\n",
    "plt.show()\n",
    "\n",
    "# 打印五数概括\n",
    "print(\"五数概括：\")\n",
    "print(\"最小值:\", min_value)\n",
    "print(\"Q1:\", Q1)\n",
    "print(\"中位数:\", M)\n",
    "print(\"Q3:\", Q3)\n",
    "print(\"最大值:\", max_value)"
   ]
  },
  {
   "cell_type": "markdown",
   "metadata": {},
   "source": [
    "### 下表是与脂肪含量（%）表对应的食品热量（kcal/100g），请计算食品热量和对应的脂肪含量之间的Pearson’s coefficient。"
   ]
  },
  {
   "cell_type": "code",
   "execution_count": 4,
   "metadata": {},
   "outputs": [
    {
     "name": "stdout",
     "output_type": "stream",
     "text": [
      "Pearson's coefficient: 0.8457688038832131\n"
     ]
    }
   ],
   "source": [
    "#下表是与脂肪含量（%）表对应的食品热量（kcal/100g），请计算食品热量和对应的脂肪含量之间的Pearson’s coefficient\n",
    "fat_data = [9.0, 26.5, 4.8, 17.2, 31.4, 26.5, 28.0, 26.5, 34.6, 43.0, 29.8, 33.4, 27.4, 34.1, 32.9, 41.2]\n",
    "kol_data = [156,341,76,198,391,207,313,224,288,394,271,378,384,276,401,433]\n",
    "\n",
    "# 计算Pearson's coefficient\n",
    "n = len(fat_data)\n",
    "sum_x = sum(fat_data)\n",
    "mean_x = sum_x/n\n",
    "sum_y = sum(kol_data)\n",
    "mean_y = sum_y/n\n",
    "cov_xy = sum([(fat_data[i]-mean_x)*(kol_data[i]-mean_y) for i in range(n)])\n",
    "var_x = sum([(fat_data[i]-mean_x)**2 for i in range(n)])\n",
    "var_y = sum([(kol_data[i]-mean_y)**2 for i in range(n)])\n",
    "\n",
    "pearson_coefficient = cov_xy / (var_x*var_y)**0.5\n",
    "print(\"Pearson's coefficient:\", pearson_coefficient)"
   ]
  },
  {
   "cell_type": "markdown",
   "metadata": {},
   "source": [
    "## 文本数据的表示："
   ]
  },
  {
   "cell_type": "markdown",
   "metadata": {},
   "source": [
    "### 根据语料内容构造词典，然后将语料中的每篇文档都表示成词典上的 tf-idf 向量"
   ]
  },
  {
   "cell_type": "markdown",
   "metadata": {},
   "source": [
    "### 构造 tf-idf\n",
    "首先对数据预处理，通过正则表达式完成去除掉标点符号和分词的工作。然后根据文档构建一个词表 `word_set` 存储所有词，接下来遍历每篇文档，统计词频，并计算每个词的 tf-idf 值，最后将每个文档表示成 tf-idf 向量。这里tf定义为单词在文档中出现的频率值，我参考了一些网上资料对 idf 定义为  $idf = ln(\\frac{文档总数 +1}{出现该词语的文档总数+1})+1$ 加一期望得到更平滑的表示。\n",
    "综上，对于文档i，其tf-idf向量定义为：\n",
    "$$\n",
    "\\vec{v}_i = [tfidf_{i,1}, tfidf_{i,2}, \\cdots, tfidf_{i,n}]\n",
    "$$\n",
    "其中 $tfidf_{i,j}$ 表示第 i 个文档词表中 j 号词在这篇文档中的 tf-idf 值, n 表示词表大小。"
   ]
  },
  {
   "cell_type": "code",
   "execution_count": 1,
   "metadata": {},
   "outputs": [
    {
     "name": "stderr",
     "output_type": "stream",
     "text": [
      "  0%|          | 0/300 [00:00<?, ?it/s]"
     ]
    },
    {
     "name": "stderr",
     "output_type": "stream",
     "text": [
      "100%|██████████| 300/300 [00:00<00:00, 1730.77it/s]\n",
      "100%|██████████| 300/300 [00:00<00:00, 21284.04it/s]\n",
      "100%|██████████| 11692/11692 [00:00<00:00, 16517.74it/s]\n",
      "100%|██████████| 300/300 [00:00<00:00, 1923.96it/s]\n"
     ]
    }
   ],
   "source": [
    "import os\n",
    "import os.path as osp\n",
    "from tqdm import tqdm\n",
    "import  math\n",
    "import re\n",
    "\n",
    "def make_corpus(data_base_path = './nyt_corp0/nyt_corp0'):\n",
    "    corpus = []\n",
    "    document_name_list = os.listdir(data_base_path)\n",
    "    for document_name in tqdm(document_name_list):\n",
    "        document = []\n",
    "        document_path = osp.join(data_base_path, document_name)\n",
    "        with open(document_path) as f:\n",
    "            while True:\n",
    "                line = f.readline()\n",
    "                if not line:     \n",
    "                    break\n",
    "                # line = re.sub(r'[^\\w\\s]', '', line.lower()).split()\n",
    "                matches = re.findall(r'[a-zA-Z-]+', line.lower())\n",
    "    \n",
    "                # 处理连字符连接的单词\n",
    "                words = []\n",
    "                for match in matches:\n",
    "                    # 如果单词中包含连字符，将其拆分\n",
    "                    if '-' in match:\n",
    "                        words.extend(match.split('-'))\n",
    "                    else:\n",
    "                        words.append(match)\n",
    "                document += words\n",
    "        corpus.append(document)\n",
    "    return corpus\n",
    "def make_word_set(corpus):\n",
    "    word_set = []\n",
    "    for document in corpus:\n",
    "        for words in document:\n",
    "            if words not in word_set:\n",
    "                word_set.append(words)\n",
    "    return word_set\n",
    "def count_frequency(corpus,word_set):\n",
    "    frequency_list = []\n",
    "    for document in tqdm(corpus):\n",
    "        # word_freq = {word: 0 for word in word_set}\n",
    "        document_len = len(document)\n",
    "        word_freq = {}\n",
    "        for word in document:\n",
    "            if word in word_freq:\n",
    "                word_freq[word] += 1/document_len\n",
    "            else:\n",
    "                word_freq[word] = 1/document_len\n",
    "        frequency_list.append(word_freq)\n",
    "    return frequency_list\n",
    "\n",
    "def make_tfidf_dictionary(frequency_list,word_set):\n",
    "    document_num = len(frequency_list)\n",
    "    tfidf_vector_dict = {}\n",
    "    for word in tqdm(word_set):\n",
    "        doc_freq = 0\n",
    "        for word_freq in frequency_list:\n",
    "            if word in word_freq:\n",
    "                doc_freq+=1\n",
    "        idf = math.log1p((document_num+1) / (doc_freq+1))+1\n",
    "        tfidf_vector_dict[word] = []\n",
    "        for word_freq in frequency_list:\n",
    "            if word in word_freq:\n",
    "                tfidf_vector_dict[word].append(word_freq[word] * idf)\n",
    "            else:\n",
    "                tfidf_vector_dict[word].append(0)\n",
    "        # tfidf_vector_dict[word] = [word_freq[word] * idf for word_freq in frequency_list]\n",
    "\n",
    "    return tfidf_vector_dict\n",
    "\n",
    "\n",
    "corpus = make_corpus()\n",
    "word_set = make_word_set(corpus)\n",
    "frequency_list = count_frequency(corpus,word_set)\n",
    "word_dictionary = make_tfidf_dictionary(frequency_list, word_set)\n",
    "document_vectors = []\n",
    "word2id = {word: i for i, word in enumerate(word_set)}\n",
    "for i in tqdm(range(len(corpus))):\n",
    "    document_tfidf_vector = [0 for _ in range(len(word_set))]\n",
    "    for word in corpus[i]:\n",
    "        document_tfidf_vector[word2id[word]] = word_dictionary[word][i]\n",
    "    # document_tfidf_vector = [word_dictionary[word][i] for word in corpus[i]]\n",
    "    document_vectors.append(document_tfidf_vector)"
   ]
  },
  {
   "cell_type": "markdown",
   "metadata": {},
   "source": [
    "### 构造共现矩阵"
   ]
  },
  {
   "cell_type": "markdown",
   "metadata": {},
   "source": [
    "共现矩阵的定义为：\n",
    "$$\n",
    "C =\n",
    "\\begin{bmatrix}\n",
    "    c_{11} & c_{12} & \\cdots & c_{1n} \\\\\n",
    "    c_{21} & c_{22} & \\cdots & c_{2n} \\\\    \n",
    "    \\vdots & \\vdots & \\ddots & \\vdots \\\\\n",
    "    c_{n1} & c_{n2} & \\cdots & c_{nn}\n",
    "\\end{bmatrix}\n",
    "$$\n",
    "其中 $c_{ij}$ 表示词 $i$ 和词 $j$ 同时出现的次数。共现矩阵的计算方法为：\n",
    "1. 遍历每篇文档，统计词频，这一步已经在构造 tf-idf 向量时完成\n",
    "2. 遍历每篇文档，统计词 $i$ 和词 $j$ 同时出现的次数，这里对于“共现”的定义采用了两种方式：a) 只要词 $i$ 和词 $j$ 同时出现在文档中，就记录这篇文档对矩阵的贡献+1；b) 只要词 $i$ 和词 $j$ 同时出现在文档中，就记录这篇文档对矩阵的贡献+文档中词 $i$ 和词 $j$ 各自出现的次数乘积。c) 和 b) 类似，但从词的频数改成频率。和a相比，bc的计算方式考虑了两个词同时出现的次数，也就是说，如果文档中两个词同时出现的频率越高，那么它们在共现矩阵中的贡献就越大，和 b) 相比, c) 还针对文章长度做了归一化调整。\n",
    "3. 将每篇文档对共现矩阵的贡献相加，得到最终的共现矩阵。显然，这是一个稀疏对称矩阵，大部分位置的贡献都是0。"
   ]
  },
  {
   "cell_type": "code",
   "execution_count": 2,
   "metadata": {},
   "outputs": [
    {
     "name": "stderr",
     "output_type": "stream",
     "text": [
      "100%|██████████| 300/300 [00:02<00:00, 130.11it/s]\n",
      "100%|██████████| 300/300 [00:05<00:00, 52.27it/s]\n",
      "100%|██████████| 300/300 [00:02<00:00, 110.19it/s]\n"
     ]
    }
   ],
   "source": [
    "def make_co_occurrence_matrix(frequency_list,word_set,word2id, mode=\"01\",corpus=None):\n",
    "    co_occurrence_matrix = [[0 for word_2 in word_set] for word in word_set]\n",
    "    if mode == \"01\":\n",
    "        for frequency in tqdm(frequency_list):\n",
    "            for word in frequency:\n",
    "                if frequency[word] != 0:\n",
    "                    for word_2 in frequency:\n",
    "                        if frequency[word_2] != 0:\n",
    "                            co_occurrence_matrix[word2id[word]][word2id[word_2]] += 1\n",
    "                   \n",
    "    elif mode == \"mul_freq\":\n",
    "        for frequency in tqdm(frequency_list):\n",
    "            freq_len = len(corpus[frequency_list.index(frequency)])\n",
    "            for word in frequency:\n",
    "                    for word_2 in frequency:\n",
    "                        co_occurrence_matrix[word2id[word]][word2id[word_2]] += frequency[word] * frequency[word_2] * (freq_len**2)\n",
    "    elif mode == \"mul_freq_div_len\":\n",
    "        for frequency in tqdm(frequency_list):\n",
    "            for word in frequency:\n",
    "                    for word_2 in frequency:\n",
    "                        co_occurrence_matrix[word2id[word]][word2id[word_2]] += frequency[word] * frequency[word_2]\n",
    "    else:\n",
    "        raise ValueError(\"mode must be '01' , 'mul_freq' or 'mul_freq_div_len'\")\n",
    "    return co_occurrence_matrix\n",
    "\n",
    "co_occurrence_matrix_01 = make_co_occurrence_matrix(frequency_list, word_set,word2id, mode=\"01\",corpus=corpus)\n",
    "\n",
    "co_occurrence_matrix_mul_freq = make_co_occurrence_matrix(frequency_list, word_set,word2id, mode=\"mul_freq\",corpus=corpus)\n",
    "co_occurrence_matrix_mul_freq_div_len = make_co_occurrence_matrix(frequency_list, word_set,word2id, mode=\"mul_freq_div_len\",corpus=corpus)"
   ]
  },
  {
   "cell_type": "markdown",
   "metadata": {},
   "source": [
    "### 文档距离计算与分析"
   ]
  },
  {
   "cell_type": "code",
   "execution_count": 3,
   "metadata": {},
   "outputs": [],
   "source": [
    "def cosine_similarity(vector_1, vector_2):\n",
    "    return sum([vector_1[i] * vector_2[i] for i in range(len(vector_1))]) / (sum([vector_1[i]**2 for i in range(len(vector_1))])**0.5 * (sum([vector_2[i]**2 for i in range(len(vector_1))])**0.5))\n",
    "\n",
    "def euclidean_distance(vector_1, vector_2):\n",
    "    return (sum([(vector_1[i] - vector_2[i])**2 for i in range(len(vector_1))]))**0.5"
   ]
  },
  {
   "cell_type": "code",
   "execution_count": 4,
   "metadata": {},
   "outputs": [
    {
     "name": "stdout",
     "output_type": "stream",
     "text": [
      "============== Document 100 ==============\n",
      "STRASSER--Richard died January 14 , 2007. He is survived by his loving wife Diane, and his adoring children Karen and Marc Gallucci and Leslie Strasser. Dick was an avid skier, tennis player, sailor, golfer and a superb bridge player. He was an innovator in the mortgage insurance industry where he enjoyed a highly rewarding career. His courage, wisdom, strength and love for life will never be forgotten. Funeral Services Tuesday, 10:30am at Rye Community Synagogue. Information at Zion Memorial Chapel (914)381-1809. Donations in his memory may be sent to Memorial Sloan Kettering Cancer Center\n",
      "\n",
      "============== END ==============\n",
      "============== Document 271, Distance:0.2618353276742466 ==============\n",
      "CINCOTTA--Joseph J., on January 13, 2007. Died peacefully in his sleep after a long illness, bravely borne, at age 83. He passed away at home surrounded by love and a devoted circle of friends. Beloved husband of the late Marion (nee Ferguson). Cherished father of Constance. Loving brother of the late Grace Baudhuin, Rose Deatherage and Mickey. Survived by nieces, nephews and extended family. He was a good friend and benefactor to many. Commonly known as ''Joe Glenwood,'' his life was driven by a passion for the business he created and loved, ''Glenwood Mason Supply Company''. A tireless businessman, he has left his legacy across the five boroughs where every neighborhood is comprised of buildings constructed with materials he proudly manufactured and supplied. This stands as a testament to his wisdom, diligence and forbearance. Joe served his country proudly during World War II, in the Pacific Theater, as a sailor in the US Navy. Funeral Friday, 12:15 pm from the McManus Funeral Home, 4601 Avenue 'N' (corner East 46th St), Brooklyn. Service 1:15 pm at the Green-Wood Cemetery Historic Chapel. Interment to follow. Friends may call at the Funeral Home, Wednesday and Thursday, 2:00 -4:30 and 7:00 -9:00.\n",
      "\n",
      "============== END ==============\n",
      "============== Document 60, Distance:0.2618353276742466 ==============\n",
      "CINCOTTA--Joseph J., on January 13, 2007. Died peacefully in his sleep after a long illness, bravely borne, at age 83. He passed away at home surrounded by love and a devoted circle of friends. Beloved husband of the late Marion (nee Ferguson). Cherished father of Constance. Loving brother of the late Grace Baudhuin, Rose Deatherage and Mickey. Survived by nieces, nephews and extended family. He was a good friend and benefactor to many. Commonly known as ''Joe Glenwood,'' his life was driven by a passion for the business he created and loved, ''Glenwood Mason Supply Company''. A tireless businessman, he has left his legacy across the five boroughs where every neighborhood is comprised of buildings constructed with materials he proudly manufactured and supplied. This stands as a testament to his wisdom, diligence and forbearance. Joe served his country proudly during World War II, in the Pacific Theater, as a sailor in the US Navy. Funeral Friday, 12:15 pm from the McManus Funeral Home, 4601 Avenue 'N' (corner East 46th St), Brooklyn. Service 1:15 pm at the Green-Wood Cemetery Historic Chapel. Interment to follow. Friends may call at the Funeral Home, Wednesday and Thursday, 2:00 -4:30 and 7:00 -9:00.\n",
      "\n",
      "============== END ==============\n",
      "============== Document 214, Distance:0.24793585414230995 ==============\n",
      "BLUMENTHAL--Martin. A New York business man and philanthropist, died last Saturday in Manhattan after a long illness. He was 90. Mr. Blumenthal was born in Frankfurt, Germany and immigrated to New York City in 1935. He was President of A.J. Hollander and Company, a commodities trading firm. After retirement he devoted himself to philanthropic activities. He was a trustee of the YMHA and served as chairman of Bezalel, a charitable organization that supports the arts in Israel. He was also active in Human Rights Watch. Mr. Blumenthal is survived by his wife, Sallie Blumenthal, his children Richard of Greenwich and David of Boston, six grandchildren, his brother Fred and his sister, Edith Levisohn. His first wife Jane died in 1969. Funeral will take place at Riverside Chapel at 11:30am, Tuesday January 2nd. $(6$)BLUMENTHAL--Martin. Park Avenue Synagogue mourns the passing of a devoted congregant. We extend to his wife Sally and the entire family our heartfelt sympathy. May his memory remain for a blessing. David H. Lincoln, Sr. Rabbi Amy AB Bressman, Chairman of the Board Menachem Z. Rosensaft, President\n",
      "\n",
      "============== END ==============\n",
      "============== Document 174, Distance:0.24461326603793881 ==============\n",
      "FRIEDMAN--Jack, 84, of Hewlett and Boca Raton, died January 4, 2008. For 63 years he was a beloved and loving husband of Jacklyn, a loving and devoted father of David, Dianne and Steven, a most affectionate father-in-law to Rebecca and Michael, and a proud grandfather of seven and great-grandfather of two. An avid tennis player, pianist and music lover, a veteran of WWII, a life long fan of the New York Yankees, he was cheerful and accepting and gave generously of himself to others. He had a wonderful sense of humor and was a true gentlemen in the best sense of the word. He will be sorely missed.\n",
      "\n",
      "============== END ==============\n",
      "============== Document 82, Distance:0.23419164238502155 ==============\n",
      "GREENBERG--Milton, Laur, 88, died suddenly and peacefully on January 12th, 2007 at the California Veterans Home in Yountville, after having Parkinson's for 12 years. He lived in Port Chester and Rye, NY and Santa Rosa, CA. He was an Air Transport Command navigator in WWII; a manufacturers representative of high-temperature boilers for International Boiler Works; and at 55 got the first Bachelors of Family Therapy from Antioch College, and then a Masters of Family Therapy from Hahnemann Medical College in Phillidelphia. He was a family co-therapist with his wife in Rye, and retired to Santa Rosa 21 years ago. He had a way of summing up his world in a word or two which at the same time captured its essence and had incredible humor. His final gift was his brain to the Parkinson's Institute for research. The world is a better place for his having lived in it. Married 63 years, he is survived by his wife Alice, his sons David of Portland, OR, and Carl of Spokane, WA, grandchildren Sarah, Jacob, Emily, Seth, and several nephews and nieces including Samuel and Eleanor Sipkins.\n",
      "\n",
      "============== END ==============\n",
      "============== Document 31, Distance:0.47077809737431126 ==============\n",
      "9 P.M. (NBC) SCRUBS All the hospital's a Broadway stage when a woman checks into Sacred Heart complaining of hearing incessant music. Stephanie D'Abruzzo, an original cast member of the Tony Award-winning ''Avenue Q,'' plays the patient with singing in her ears; Robert Lopez and Jeff Marx, who wrote the show's music, composed the songs for this episode.\n",
      "8 P.M. (NBC) MY NAME IS EARL Wouldn't you know it? Before Earl (Jason Lee) can make amends, the man he once locked in a truck dies -- leaving Earl to plan a funeral for someone he didn't even know. Meanwhile, Randy (Ethan Suplee) and Catalina (Nadine Velazquez) try to make their marriage seem more real by looking for an apartment together.\n",
      "8 P.M. (11) SMALLVILLE Calling all superheroes: the Flash, Aquaman and Cyborg show up in Smallville to help the Green Arrow take down LuthorCorp's secret lab.\n",
      "8 P.M. (ABC) UGLY BETTY America Ferrera, who plays the title frump in this sitcom set in the fashion world, just proved that you don't have to look like, say, Sarah Jessica Parker to win a Golden Globe for best actress in a television comedy. Tonight, Betty determines to get Daniel back to work and over his sadness about Sofia (the beauteous Salma Hayek, one of the show's executive producers) by setting him up on a date with a supermodel. Back at the office, Wilhelmina starts dreaming in pink -- as in slips -- about who will stay and who will go once she is made editor in chief of Mode. And the woman behind the mask is finally revealed.\n",
      "9 P.M. (CBS) CSI: CRIME SCENE INVESTIGATION Liev Schreiber joins the cast in a recurring role as Michael Keppler, a seasoned crime scene investigator sent in to replace Gil Grissom (William Petersen) during his teaching sabbatical. He's as tough to read as a closed book.\n",
      "9 P.M. (Discovery Health) THE DAN HO SHOW Attention, freshmen: Mr. Ho dishes out healthy living habits to keep college students from gaining the proverbial 15 pounds. At 9:30, he helps a couple of pack rats clean up their garage.\n",
      "9:30 P.M. (NBC) 30 ROCK Liz (Tina Fey) and Jenna (Jane Krakowski) decide to get serious about their dating lives. But can they step into the other's shoes?\n",
      "10 P.M. (CBS) SHARK After admitting that he has long followed the career of Sebastian Stark (James Woods), a serial killer (Billy Campbell) decides to test his wits by acting as his own lawyer during his trial. Turns out it's not such a bad move. KATHRYN SHATTUCK\n",
      "What's On - TV Listings\n",
      "\n",
      "============== END ==============\n",
      "============== Document 52, Distance:0.47183434491840126 ==============\n",
      "9 P.M. (NBC) SCRUBS -- All the hospital's a Broadway stage when a woman checks into Sacred Heart complaining of hearing incessant music. Stephanie D'Abruzzo (right,on a stretcher), an original cast member of the Tony Award-winning ''Avenue Q,'' plays the patient with singing in her ears; Robert Lopez and Jeff Marx, who wrote the show's music, composed the songs for this episode.\n",
      "8 P.M. (NBC) MY NAME IS EARL -- Wouldn't you know it? Before Earl (Jason Lee) can make amends, the man he once locked in a truck dies -- leaving Earl to plan a funeral for someone he didn't even know. Meanwhile, Randy (Ethan Suplee) and Catalina (Nadine Velazquez) try to make their marriage seem more real by looking for an apartment together.\n",
      "8 P.M. (11) SMALLVILLE -- Calling all superheroes: the Flash, Aquaman and Cyborg show up in Smallville to help the Green Arrow take down Luthor Corp's secret lab.\n",
      "8 P.M. (ABC) UGLY BETTY -- America Ferrera, who plays the title frump in this sitcom set in the fashion world, just proved that you don't have to look like, say, Sarah Jessica Parker to win a Golden Globe for best-actress in a television comedy. Tonight, Betty determines to get Daniel back to work and over his sadness about Sofia (the beauteous Salma Hayek, one of the show's executive producers) by setting him up on a date with a supermodel. Back at the office, Wilhelmina starts dreaming in pink -- as in slips -- about who will stay and who will go once she is made editor in chief of Mode. And the woman behind the mask is finally revealed.\n",
      "9 P.M. (CBS) CSI: CRIME SCENE INVESTIGATION -- Liev Schreiber (left) joins the cast in a recurring role as Michael Keppler, a seasoned crime scene investigator sent in to replace Gil Grissom (William Petersen ) during his teaching sabbatical. He's as tough to read as a closed book.\n",
      "9 P.M. (Discovery Health) THE DAN HO SHOW -- Attention, freshmen: Mr. Ho dishes out healthy living habits to keep college students from gaining the proverbial 15 pounds. At 9:30, he helps a couple of pack rats clean up their garage.\n",
      "9:30 P.M. (NBC) 30 ROCK -- Liz (Tina Fey) and Jenna (Jane Krakowski) decide to get serious about their dating lives. But can they step into the other's shoes?\n",
      "10 P.M. (CBS) SHARK -- After admitting that he has long followed the career of Sebastian Stark (James Woods, right), a serial killer (Billy Campbell) decides to test his wits by acting as his own lawyer during his trial. Turns out it's not such a bad move.\n",
      "KATHRYN SHATTUCK\n",
      "\n",
      "============== END ==============\n",
      "============== Document 271, Distance:0.47357429455608085 ==============\n",
      "CINCOTTA--Joseph J., on January 13, 2007. Died peacefully in his sleep after a long illness, bravely borne, at age 83. He passed away at home surrounded by love and a devoted circle of friends. Beloved husband of the late Marion (nee Ferguson). Cherished father of Constance. Loving brother of the late Grace Baudhuin, Rose Deatherage and Mickey. Survived by nieces, nephews and extended family. He was a good friend and benefactor to many. Commonly known as ''Joe Glenwood,'' his life was driven by a passion for the business he created and loved, ''Glenwood Mason Supply Company''. A tireless businessman, he has left his legacy across the five boroughs where every neighborhood is comprised of buildings constructed with materials he proudly manufactured and supplied. This stands as a testament to his wisdom, diligence and forbearance. Joe served his country proudly during World War II, in the Pacific Theater, as a sailor in the US Navy. Funeral Friday, 12:15 pm from the McManus Funeral Home, 4601 Avenue 'N' (corner East 46th St), Brooklyn. Service 1:15 pm at the Green-Wood Cemetery Historic Chapel. Interment to follow. Friends may call at the Funeral Home, Wednesday and Thursday, 2:00 -4:30 and 7:00 -9:00.\n",
      "\n",
      "============== END ==============\n",
      "============== Document 60, Distance:0.47357429455608085 ==============\n",
      "CINCOTTA--Joseph J., on January 13, 2007. Died peacefully in his sleep after a long illness, bravely borne, at age 83. He passed away at home surrounded by love and a devoted circle of friends. Beloved husband of the late Marion (nee Ferguson). Cherished father of Constance. Loving brother of the late Grace Baudhuin, Rose Deatherage and Mickey. Survived by nieces, nephews and extended family. He was a good friend and benefactor to many. Commonly known as ''Joe Glenwood,'' his life was driven by a passion for the business he created and loved, ''Glenwood Mason Supply Company''. A tireless businessman, he has left his legacy across the five boroughs where every neighborhood is comprised of buildings constructed with materials he proudly manufactured and supplied. This stands as a testament to his wisdom, diligence and forbearance. Joe served his country proudly during World War II, in the Pacific Theater, as a sailor in the US Navy. Funeral Friday, 12:15 pm from the McManus Funeral Home, 4601 Avenue 'N' (corner East 46th St), Brooklyn. Service 1:15 pm at the Green-Wood Cemetery Historic Chapel. Interment to follow. Friends may call at the Funeral Home, Wednesday and Thursday, 2:00 -4:30 and 7:00 -9:00.\n",
      "\n",
      "============== END ==============\n",
      "============== Document 276, Distance:0.4761404711118363 ==============\n",
      "Robert Ashley has never worried that the works he calls operas bear little resemblance to the traditional variety, and there's no reason he should start now. Far more than Philip Glass's operas, which are considered revolutionary for their stripped-down narratives and vocal lines that are ritualistically repetitive rather than flighty and virtuosic, Mr. Ashley's works jettison the standard operatic yardsticks.\n",
      "His latest, ''Concrete,'' which opened on Wednesday evening at La MaMa E.T.C., has no stage action to speak of. Four singers sit at a table playing cards with a giant deck and chattering about mundane mysteries of life. Often they pick up on one another's thoughts as if they were actually only one speaker, broken into four voices. Between those ensembles, each singer rises for an extended solo piece, delivered standing still, or at most with choreographed hand gestures. Think of it as an ''Alice in Wonderland'' version of Samuel Barber's chamber opera ''A Hand of Bridge.''\n",
      "There isn't a lot of melody, either. Mr. Ashley writes in his own stylized version of Sprechstimme, a way of projecting text that is more tuneful than speech but less than song. This composer's version preserves speech rhythms, but where the melodies in Sprechstimme usually leap around at least a bit, Mr. Ashley's barely amplify the inflections inherent in spoken English.\n",
      "Mr. Ashley does provide an equivalent of an orchestral score: it is electronic, and performed live by him. He has said that this element will change in each performance to match the impulses of the singers. Presumably he was doing some of this matching on Wednesday, but much of the accompaniment was an ambient wash. Occasionally -- and increasingly, toward the end -- assertive bass tones and 1950s sci-fi movie effects expanded the score's texture and topography.\n",
      "What the work offers in spades is narrative. The four singers -- Jacqueline Humbert, Thomas Buckner, Joan La Barbara and Sam Ashley -- are given long, involved yarns about old friendships, within which are wrapped the strategies of card sharps and racetrack gamblers, and the details of near-fatal car crashes, boating accidents, cocaine deals gone awry (and not) and spooky visits from dead friends.\n",
      "Mr. Ashley's texts are both engaging and provocative, and they are the work's most striking component. It could be argued, in fact, that ''Concrete'' (the title comes from a recurring, apparently autobiographical line about urban life, ''The old man lives in concrete'') is more of a literary or theatrical work than a musical one.\n",
      "''Concrete'' continues through Sunday at La MaMa E.T.C., 74A East Fourth Street, East Village, (212) 475-7710.\n",
      "MUSIC REVIEW\n",
      "\n",
      "============== END ==============\n"
     ]
    }
   ],
   "source": [
    "def check_nearest_tfidf_neighbor(id, document_vectors, k=1,metric=\"cosine\"):\n",
    "    document_vector = document_vectors[id]\n",
    "    distance_list = []\n",
    "    for i in range(len(document_vectors)):\n",
    "        if i != id:\n",
    "            if metric == \"cosine\":\n",
    "                distance_list.append((i,cosine_similarity(document_vector, document_vectors[i])))\n",
    "            elif metric == \"euclidean\":\n",
    "                distance_list.append((i,euclidean_distance(document_vector, document_vectors[i])))\n",
    "            else:\n",
    "                raise ValueError(\"metric must be 'cosine' or 'euclidean'\")\n",
    "    distance_list.sort(key=lambda x: x[1], reverse=(metric == \"cosine\"))\n",
    "    return distance_list[:k]\n",
    "\n",
    "comp_id = 3\n",
    "nearest_list = []\n",
    "nearest_list+=check_nearest_tfidf_neighbor(comp_id,document_vectors,k=5,metric=\"cosine\")\n",
    "nearest_list+=check_nearest_tfidf_neighbor(comp_id,document_vectors,k=5,metric=\"euclidean\")\n",
    "data_base = './nyt_corp0/nyt_corp0'\n",
    "documents_list = os.listdir(data_base)\n",
    "print(f\"============== Document {documents_list[comp_id]} ==============\")\n",
    "with open(osp.join(data_base,documents_list[comp_id])) as f:\n",
    "    print(f.read())\n",
    "print(f\"============== END ==============\")\n",
    "for id, distance in nearest_list:\n",
    "    print(f\"============== Document {documents_list[id]}, Distance:{distance} ==============\")\n",
    "    with open(osp.join(data_base,documents_list[id])) as f:\n",
    "        print(f.read())\n",
    "    print(f\"============== END ==============\")\n"
   ]
  },
  {
   "cell_type": "markdown",
   "metadata": {},
   "source": [
    "#### 分析\n",
    "- 目标文档讲述的主要是一位名人 Richard 去世的消息，并介绍了其生平的信息，而通过欧式距离最近/余弦相似度最高的检索发现的十篇文章中有 **7/10** 篇都是名人去世的消息。这说明了 tf-idf 向量能够在一定程度上表示文档内容的相似性。\n",
    "- 和欧式距离相比，余弦相似度表示的文章和目标文档从内容来看的相似程度更高。这可能是因为，欧式距离考虑了两个向量的长度，而余弦相似度只考虑了两个向量的夹角。在文章长度和相似性都相同的情况下，没有对向量做正则化操作情况下，余弦相似度能够更好地表示文章和目标文档的相似性。\n",
    "- 文档271和60在欧氏距离和夹角距离排序中均列入了前五，说明了 tf-idf 向量对相似度的衡量具有一定的稳定性。"
   ]
  },
  {
   "cell_type": "markdown",
   "metadata": {},
   "source": [
    "### 词语距离计算与分析"
   ]
  },
  {
   "cell_type": "code",
   "execution_count": 5,
   "metadata": {},
   "outputs": [],
   "source": [
    "def check_nearest_co_coccurrence_neighbor(id, co_occurrence_matrix, k=1, metric=\"cosine\"):\n",
    "    distance_list = []\n",
    "    for word_2_id in tqdm(range(len(co_occurrence_matrix[id]))):\n",
    "        if word_2_id != id:\n",
    "            if metric == \"cosine\":\n",
    "                distance_list.append((word_2_id,cosine_similarity(co_occurrence_matrix[id],co_occurrence_matrix[word_2_id])))\n",
    "            elif metric == \"euclidean\":\n",
    "                distance_list.append((word_2_id,euclidean_distance(co_occurrence_matrix[id],co_occurrence_matrix[word_2_id])))\n",
    "    distance_list.sort(key=lambda x: x[1], reverse=(metric == \"cosine\"))\n",
    "    return distance_list[:k]"
   ]
  },
  {
   "cell_type": "code",
   "execution_count": 13,
   "metadata": {},
   "outputs": [],
   "source": [
    "def search_word(word,word_set,co_occurrence_matrix_01,co_occurrence_matrix_mul_freq,co_occurrence_matrix_mul_freq_div_len):\n",
    "    i = word_set.index(word)\n",
    "    print(i,word_set[i])\n",
    "    nearest_list = []\n",
    "    nearest_list+=check_nearest_co_coccurrence_neighbor(i, co_occurrence_matrix_01,k=5,metric=\"cosine\")\n",
    "    nearest_list+=check_nearest_co_coccurrence_neighbor(i, co_occurrence_matrix_01,k=5,metric=\"euclidean\")\n",
    "    for word_2_id, distance in nearest_list:\n",
    "        print(word_set[word_2_id],distance)\n",
    "    nearest_list = []\n",
    "    nearest_list+=check_nearest_co_coccurrence_neighbor(i, co_occurrence_matrix_mul_freq,k=5,metric=\"cosine\")\n",
    "    nearest_list+=check_nearest_co_coccurrence_neighbor(i, co_occurrence_matrix_mul_freq,k=5,metric=\"euclidean\")\n",
    "    for word_2_id, distance in nearest_list:\n",
    "        print(word_set[word_2_id],distance)\n",
    "    nearest_list = []\n",
    "    nearest_list+=check_nearest_co_coccurrence_neighbor(i, co_occurrence_matrix_mul_freq_div_len,k=5,metric=\"cosine\")\n",
    "    nearest_list+=check_nearest_co_coccurrence_neighbor(i, co_occurrence_matrix_mul_freq_div_len,k=5,metric=\"euclidean\")\n",
    "    for word_2_id, distance in nearest_list:\n",
    "        print(word_set[word_2_id],distance)"
   ]
  },
  {
   "cell_type": "code",
   "execution_count": 10,
   "metadata": {},
   "outputs": [
    {
     "name": "stdout",
     "output_type": "stream",
     "text": [
      "1679 economic\n"
     ]
    },
    {
     "name": "stderr",
     "output_type": "stream",
     "text": [
      "100%|██████████| 11692/11692 [02:06<00:00, 92.70it/s]\n",
      "100%|██████████| 11692/11692 [01:02<00:00, 188.22it/s]\n"
     ]
    },
    {
     "name": "stdout",
     "output_type": "stream",
     "text": [
      "aimed 0.8234416265624126\n",
      "federal 0.7988923878360074\n",
      "inflation 0.7981548753661792\n",
      "markets 0.786322555719365\n",
      "would 0.7828074128168436\n",
      "aimed 28.965496715920477\n",
      "inflation 30.919249667480614\n",
      "markets 32.48076353782343\n",
      "presidential 34.42382895611701\n",
      "labor 34.56877203488721\n"
     ]
    },
    {
     "name": "stderr",
     "output_type": "stream",
     "text": [
      "100%|██████████| 11692/11692 [02:05<00:00, 93.49it/s] \n",
      "100%|██████████| 11692/11692 [00:57<00:00, 205.11it/s]\n"
     ]
    },
    {
     "name": "stdout",
     "output_type": "stream",
     "text": [
      "december 0.9590032802641333\n",
      "will 0.9497605541073755\n",
      "wednesday 0.9480085029172628\n",
      "financial 0.9432853300578444\n",
      "friday 0.9424291635728906\n",
      "index 106.47065323364932\n",
      "price 107.52674086012279\n",
      "follow 113.25193155085701\n",
      "remain 113.3313725320575\n",
      "seem 116.31422956801114\n"
     ]
    },
    {
     "name": "stderr",
     "output_type": "stream",
     "text": [
      "100%|██████████| 11692/11692 [02:01<00:00, 96.38it/s] \n",
      "100%|██████████| 11692/11692 [01:04<00:00, 182.33it/s]"
     ]
    },
    {
     "name": "stdout",
     "output_type": "stream",
     "text": [
      "step 0.9467872209788474\n",
      "thursday 0.942547127601474\n",
      "for 0.9421087987094282\n",
      "s 0.9409279119798236\n",
      "the 0.9365101621166834\n",
      "step 0.0012178893764680525\n",
      "within 0.0013416563311928196\n",
      "effort 0.0014238243048315035\n",
      "democrats 0.001437888545200369\n",
      "remain 0.001468819968613491\n"
     ]
    },
    {
     "name": "stderr",
     "output_type": "stream",
     "text": [
      "\n"
     ]
    }
   ],
   "source": [
    "search_word(\"economic\",word_set,co_occurrence_matrix_01,co_occurrence_matrix_mul_freq,co_occurrence_matrix_mul_freq_div_len)"
   ]
  },
  {
   "cell_type": "code",
   "execution_count": 15,
   "metadata": {},
   "outputs": [
    {
     "name": "stdout",
     "output_type": "stream",
     "text": [
      "1 the\n"
     ]
    },
    {
     "name": "stderr",
     "output_type": "stream",
     "text": [
      "100%|██████████| 11692/11692 [01:55<00:00, 100.99it/s]\n",
      "100%|██████████| 11692/11692 [01:02<00:00, 187.14it/s]\n"
     ]
    },
    {
     "name": "stdout",
     "output_type": "stream",
     "text": [
      "of 0.9996970899675761\n",
      "and 0.9996325795994825\n",
      "a 0.9996071812976033\n",
      "to 0.9994356723530973\n",
      "in 0.9993539000072333\n",
      "of 36.359317925395686\n",
      "and 38.2099463490856\n",
      "a 43.09292285283048\n",
      "in 58.872744118140105\n",
      "to 59.732738092272314\n"
     ]
    },
    {
     "name": "stderr",
     "output_type": "stream",
     "text": [
      "100%|██████████| 11692/11692 [02:19<00:00, 84.02it/s] \n",
      "100%|██████████| 11692/11692 [00:51<00:00, 228.50it/s]\n"
     ]
    },
    {
     "name": "stdout",
     "output_type": "stream",
     "text": [
      "for 0.9968609630528406\n",
      "on 0.9966235516328705\n",
      "in 0.9965086820372341\n",
      "from 0.996354966984871\n",
      "which 0.9962321869636204\n",
      "of 69632.33654703826\n",
      "a 73577.80405122186\n",
      "and 74640.21823387174\n",
      "to 82129.7108359697\n",
      "in 83731.793710633\n"
     ]
    },
    {
     "name": "stderr",
     "output_type": "stream",
     "text": [
      "100%|██████████| 11692/11692 [02:05<00:00, 93.44it/s] \n",
      "100%|██████████| 11692/11692 [00:57<00:00, 204.20it/s]"
     ]
    },
    {
     "name": "stdout",
     "output_type": "stream",
     "text": [
      "s 0.9937245223309346\n",
      "in 0.9920881572778818\n",
      "to 0.9918257164849303\n",
      "which 0.991778711447395\n",
      "other 0.9907210234516828\n",
      "of 0.751840180417356\n",
      "and 0.8081142712266851\n",
      "a 0.8956653341736085\n",
      "in 0.9977709790847904\n",
      "to 1.0001140123562582\n"
     ]
    },
    {
     "name": "stderr",
     "output_type": "stream",
     "text": [
      "\n"
     ]
    }
   ],
   "source": [
    "search_word(\"the\",word_set,co_occurrence_matrix_01,co_occurrence_matrix_mul_freq,co_occurrence_matrix_mul_freq_div_len)"
   ]
  },
  {
   "cell_type": "markdown",
   "metadata": {},
   "source": [
    "#### 分析\n",
    "- 目标单词是 the ,三种矩阵找到的相似词基本一致，大都是介词冠词或连词，和 the 的词性一致 \n",
    "- 目标单词是 economic, 针对01共现矩阵（此前所提到的a情况）的欧式距离和夹角距离排序中，economic 距离最近的五个单词分别是：aimed federal inflation markets would aimed inflation markets presidential labor, 其中大部分单词都和 economic 有较强的相关性，例如 \"inflation\" 本身就是一个经济学词汇，\"aimed\" 也往往用来形容经济政策，因此它们和 economic 相关性较高。其中 aimed inflation markets 在两种统计方法中距离 economic 都很近，说明两种距离衡量标准具有一定的一致性\n",
    "- 三种共现矩阵的统计中，01共现矩阵统计的词相关性最高，频数共现矩阵统计出的词（此前提到的b情况）和01共现矩阵统计的相关词语大部分相同，效果也不错。而基于频率的共现矩阵在统计 economic 时则没有体现出很好的相关性，这可能是统计实义词时，文章长度这一正则化操作并不能起到预期的效果，一个词所包含的语义信息和文档长度并没有那么大的关系。而在统计 the 时，虚词在句子中出现的频率比较固定，因此基于频率的共现矩阵统计出的词（此前提到的c情况）和01共现矩阵统计的相关词语大部分相同，效果也不错。"
   ]
  }
 ],
 "metadata": {
  "kernelspec": {
   "display_name": "summer",
   "language": "python",
   "name": "python3"
  },
  "language_info": {
   "codemirror_mode": {
    "name": "ipython",
    "version": 3
   },
   "file_extension": ".py",
   "mimetype": "text/x-python",
   "name": "python",
   "nbconvert_exporter": "python",
   "pygments_lexer": "ipython3",
   "version": "3.8.13"
  }
 },
 "nbformat": 4,
 "nbformat_minor": 2
}
